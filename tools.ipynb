{
 "cells": [
  {
   "cell_type": "code",
   "execution_count": null,
   "metadata": {},
   "outputs": [],
   "source": [
    "import numpy as np\n",
    "import ogip\n",
    "from ogip.tools import plot, transform_rmf, crab_ph_cm2_s_kev, convolve\n",
    "import matplotlib.pylab as plt\n",
    "\n",
    "crab_pha = ogip.spec.PHAI.from_file_name(\"crab_pha.fits\")\n",
    "crab_rmf = ogip.spec.RMF.from_file_name(\"crab_rmf.fits\")\n",
    "crab_arf = ogip.spec.ARF.from_file_name(\"crab_arf.fits\")            \n",
    "\n",
    "E0 = 60\n",
    "rmf_bias = 5\n",
    "depth = 1.\n",
    "\n",
    "\n",
    "def gen_line(E0, depth):\n",
    "    return lambda x: (x/20)**-2 * (1 - depth * np.exp(-(x-E0)**2/(E0*0.1)**2)/2)\n",
    "\n",
    "f = plt.figure(figsize=(15, 10))\n",
    "\n",
    "t_rmf = transform_rmf(crab_rmf, \n",
    "                    crab_arf, \n",
    "                    lambda x:(x+rmf_bias), \n",
    "                    preserved_projection=crab_ph_cm2_s_kev)\n",
    "\n",
    "plot(crab_pha, crab_ph_cm2_s_kev, crab_rmf, crab_arf, fig=f, label_prefix=\"crab\")    \n",
    "plot(None, crab_ph_cm2_s_kev, t_rmf, crab_arf, fig=f, label_prefix=\"transformed, crab\")\n",
    "\n",
    "# Crab spectrum is the same with new and old RMF\n",
    "s = convolve(crab_ph_cm2_s_kev, crab_rmf, crab_arf) \n",
    "t_s = convolve(crab_ph_cm2_s_kev, t_rmf, crab_arf)\n",
    "assert np.all(np.abs((s - t_s)/s) < 0.001)\n",
    "\n",
    "plot(None, gen_line(E0, depth), crab_rmf, crab_arf, fig=f, label_prefix=\"line\")\n",
    "plot(None, gen_line(E0, depth), t_rmf, crab_arf, fig=f, label_prefix=\"transformed, line\", \n",
    "        plot_kwargs=dict(lw=5, alpha=0.8))\n",
    "plot(None, gen_line(E0 - rmf_bias, depth), crab_rmf, crab_arf, fig=f, label_prefix=\"shifted line\")\n",
    "\n",
    "plt.savefig(f\"conv_{E0}.png\")\n",
    "plt.savefig(\"conv.png\")\n",
    "\n",
    "# RMF transformation is equivalent to shifting. The match is not exact, but quite close\n",
    "s = convolve(gen_line(E0, depth), crab_rmf, crab_arf) \n",
    "t_s = convolve(gen_line(E0 - rmf_bias, depth), t_rmf, crab_arf)\n",
    "\n",
    "if E0 < 50: # else shape too affected\n",
    "    assert np.nanstd(np.abs((s - t_s)/s)) < 0.05\n",
    "\n",
    "t_rmf.to_fits(\"transformed_rmf.fits\")\n"
   ]
  },
  {
   "cell_type": "markdown",
   "metadata": {},
   "source": [
    "## How Poissonian counts are read"
   ]
  },
  {
   "cell_type": "code",
   "execution_count": null,
   "metadata": {},
   "outputs": [],
   "source": [
    "import ogip.spec\n",
    "pha = ogip.spec.PHAI.from_file_name(\"tests/data/MOS1source_spectrum_150_rbn.pi\")\n",
    "from astropy.io import fits as pf\n",
    "import numpy as np\n",
    "ff = pf.open(\"tests/data/MOS1source_spectrum_150_rbn.pi\")\n",
    "counts = ff[1].data['COUNTS']\n",
    "assert(np.abs(np.sum(counts - (pha._rate)*pha._exposure)) < 1e-12)\n",
    "assert(np.sum(pha._rate*pha._exposure - (pha._stat_err*pha._exposure)**2))"
   ]
  },
  {
   "cell_type": "code",
   "execution_count": null,
   "metadata": {},
   "outputs": [],
   "source": []
  },
  {
   "cell_type": "code",
   "execution_count": null,
   "metadata": {},
   "outputs": [],
   "source": []
  },
  {
   "cell_type": "code",
   "execution_count": null,
   "metadata": {},
   "outputs": [],
   "source": []
  }
 ],
 "metadata": {
  "kernelspec": {
   "display_name": "py10",
   "language": "python",
   "name": "python3"
  },
  "language_info": {
   "codemirror_mode": {
    "name": "ipython",
    "version": 3
   },
   "file_extension": ".py",
   "mimetype": "text/x-python",
   "name": "python",
   "nbconvert_exporter": "python",
   "pygments_lexer": "ipython3",
   "version": "3.10.14"
  }
 },
 "nbformat": 4,
 "nbformat_minor": 4
}
