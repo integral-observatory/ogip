{
 "cells": [
  {
   "cell_type": "code",
   "execution_count": 1,
   "metadata": {},
   "outputs": [
    {
     "ename": "Exception",
     "evalue": "failed to read with any method, tried: {'from_file_name_osa': FileNotFoundError(2, 'No such file or directory'), 'from_file_name_normal': FileNotFoundError(2, 'No such file or directory')}",
     "output_type": "error",
     "traceback": [
      "\u001b[0;31m---------------------------------------------------------------------------\u001b[0m",
      "\u001b[0;31mException\u001b[0m                                 Traceback (most recent call last)",
      "Cell \u001b[0;32mIn[1], line 6\u001b[0m\n\u001b[1;32m      3\u001b[0m \u001b[38;5;28;01mfrom\u001b[39;00m \u001b[38;5;21;01mogip\u001b[39;00m\u001b[38;5;21;01m.\u001b[39;00m\u001b[38;5;21;01mtools\u001b[39;00m \u001b[38;5;28;01mimport\u001b[39;00m plot, transform_rmf, crab_ph_cm2_s_kev, convolve\n\u001b[1;32m      4\u001b[0m \u001b[38;5;28;01mimport\u001b[39;00m \u001b[38;5;21;01mmatplotlib\u001b[39;00m\u001b[38;5;21;01m.\u001b[39;00m\u001b[38;5;21;01mpylab\u001b[39;00m \u001b[38;5;28;01mas\u001b[39;00m \u001b[38;5;21;01mplt\u001b[39;00m\n\u001b[0;32m----> 6\u001b[0m crab_pha \u001b[38;5;241m=\u001b[39m \u001b[43mogip\u001b[49m\u001b[38;5;241;43m.\u001b[39;49m\u001b[43mspec\u001b[49m\u001b[38;5;241;43m.\u001b[39;49m\u001b[43mPHAI\u001b[49m\u001b[38;5;241;43m.\u001b[39;49m\u001b[43mfrom_file_name\u001b[49m\u001b[43m(\u001b[49m\u001b[38;5;124;43m\"\u001b[39;49m\u001b[38;5;124;43mcrab_pha.fits\u001b[39;49m\u001b[38;5;124;43m\"\u001b[39;49m\u001b[43m)\u001b[49m\n\u001b[1;32m      7\u001b[0m crab_rmf \u001b[38;5;241m=\u001b[39m ogip\u001b[38;5;241m.\u001b[39mspec\u001b[38;5;241m.\u001b[39mRMF\u001b[38;5;241m.\u001b[39mfrom_file_name(\u001b[38;5;124m\"\u001b[39m\u001b[38;5;124mcrab_rmf.fits\u001b[39m\u001b[38;5;124m\"\u001b[39m)\n\u001b[1;32m      8\u001b[0m crab_arf \u001b[38;5;241m=\u001b[39m ogip\u001b[38;5;241m.\u001b[39mspec\u001b[38;5;241m.\u001b[39mARF\u001b[38;5;241m.\u001b[39mfrom_file_name(\u001b[38;5;124m\"\u001b[39m\u001b[38;5;124mcrab_arf.fits\u001b[39m\u001b[38;5;124m\"\u001b[39m)            \n",
      "File \u001b[0;32m~/Soft/ogip/ogip/spec.py:62\u001b[0m, in \u001b[0;36mPHAI.from_file_name\u001b[0;34m(fn)\u001b[0m\n\u001b[1;32m     60\u001b[0m \u001b[38;5;129m@staticmethod\u001b[39m\n\u001b[1;32m     61\u001b[0m \u001b[38;5;28;01mdef\u001b[39;00m \u001b[38;5;21mfrom_file_name\u001b[39m(fn):\n\u001b[0;32m---> 62\u001b[0m     \u001b[38;5;28;01mreturn\u001b[39;00m \u001b[43mReadable\u001b[49m\u001b[38;5;241;43m.\u001b[39;49m\u001b[43mfrom_file_name\u001b[49m\u001b[43m(\u001b[49m\u001b[43mPHAI\u001b[49m\u001b[43m,\u001b[49m\u001b[43m \u001b[49m\u001b[43mfn\u001b[49m\u001b[43m)\u001b[49m\n",
      "File \u001b[0;32m~/Soft/ogip/ogip/spec.py:47\u001b[0m, in \u001b[0;36mReadable.from_file_name\u001b[0;34m(cls, fn)\u001b[0m\n\u001b[1;32m     42\u001b[0m             logger\u001b[38;5;241m.\u001b[39mdebug(\n\u001b[1;32m     43\u001b[0m                 \u001b[38;5;124m\"\u001b[39m\u001b[38;5;124mfailed to read with \u001b[39m\u001b[38;5;132;01m%s\u001b[39;00m\u001b[38;5;124m.\u001b[39m\u001b[38;5;132;01m%s\u001b[39;00m\u001b[38;5;124m \u001b[39m\u001b[38;5;132;01m%s\u001b[39;00m\u001b[38;5;124m: \u001b[39m\u001b[38;5;132;01m%s\u001b[39;00m\u001b[38;5;124m\"\u001b[39m, \u001b[38;5;28mcls\u001b[39m\u001b[38;5;241m.\u001b[39m\u001b[38;5;18m__name__\u001b[39m, n, m, e\n\u001b[1;32m     44\u001b[0m             )\n\u001b[1;32m     45\u001b[0m             methods_tried[n] \u001b[38;5;241m=\u001b[39m e\n\u001b[0;32m---> 47\u001b[0m \u001b[38;5;28;01mraise\u001b[39;00m \u001b[38;5;167;01mException\u001b[39;00m(\n\u001b[1;32m     48\u001b[0m     \u001b[38;5;124mf\u001b[39m\u001b[38;5;124m\"\u001b[39m\u001b[38;5;124mfailed to read with any method, tried: \u001b[39m\u001b[38;5;132;01m{\u001b[39;00mmethods_tried\u001b[38;5;132;01m}\u001b[39;00m\u001b[38;5;124m\"\u001b[39m)\n",
      "\u001b[0;31mException\u001b[0m: failed to read with any method, tried: {'from_file_name_osa': FileNotFoundError(2, 'No such file or directory'), 'from_file_name_normal': FileNotFoundError(2, 'No such file or directory')}"
     ]
    }
   ],
   "source": [
    "import numpy as np\n",
    "import ogip\n",
    "from ogip.tools import plot, transform_rmf, crab_ph_cm2_s_kev, convolve\n",
    "import matplotlib.pylab as plt\n",
    "\n",
    "crab_pha = ogip.spec.PHAI.from_file_name(\"crab_pha.fits\")\n",
    "crab_rmf = ogip.spec.RMF.from_file_name(\"crab_rmf.fits\")\n",
    "crab_arf = ogip.spec.ARF.from_file_name(\"crab_arf.fits\")            \n",
    "\n",
    "E0 = 60\n",
    "rmf_bias = 5\n",
    "depth = 1.\n",
    "\n",
    "\n",
    "def gen_line(E0, depth):\n",
    "    return lambda x: (x/20)**-2 * (1 - depth * np.exp(-(x-E0)**2/(E0*0.1)**2)/2)\n",
    "\n",
    "f = plt.figure(figsize=(15, 10))\n",
    "\n",
    "t_rmf = transform_rmf(crab_rmf, \n",
    "                    crab_arf, \n",
    "                    lambda x:(x+rmf_bias), \n",
    "                    preserved_projection=crab_ph_cm2_s_kev)\n",
    "\n",
    "plot(crab_pha, crab_ph_cm2_s_kev, crab_rmf, crab_arf, fig=f, label_prefix=\"crab\")    \n",
    "plot(None, crab_ph_cm2_s_kev, t_rmf, crab_arf, fig=f, label_prefix=\"transformed, crab\")\n",
    "\n",
    "# Crab spectrum is the same with new and old RMF\n",
    "s = convolve(crab_ph_cm2_s_kev, crab_rmf, crab_arf) \n",
    "t_s = convolve(crab_ph_cm2_s_kev, t_rmf, crab_arf)\n",
    "assert np.all(np.abs((s - t_s)/s) < 0.001)\n",
    "\n",
    "plot(None, gen_line(E0, depth), crab_rmf, crab_arf, fig=f, label_prefix=\"line\")\n",
    "plot(None, gen_line(E0, depth), t_rmf, crab_arf, fig=f, label_prefix=\"transformed, line\", \n",
    "        plot_kwargs=dict(lw=5, alpha=0.8))\n",
    "plot(None, gen_line(E0 - rmf_bias, depth), crab_rmf, crab_arf, fig=f, label_prefix=\"shifted line\")\n",
    "\n",
    "plt.savefig(f\"conv_{E0}.png\")\n",
    "plt.savefig(\"conv.png\")\n",
    "\n",
    "# RMF transformation is equivalent to shifting. The match is not exact, but quite close\n",
    "s = convolve(gen_line(E0, depth), crab_rmf, crab_arf) \n",
    "t_s = convolve(gen_line(E0 - rmf_bias, depth), t_rmf, crab_arf)\n",
    "\n",
    "if E0 < 50: # else shape too affected\n",
    "    assert np.nanstd(np.abs((s - t_s)/s)) < 0.05\n",
    "\n",
    "t_rmf.to_fits(\"transformed_rmf.fits\")\n"
   ]
  },
  {
   "cell_type": "markdown",
   "metadata": {},
   "source": [
    "## How Poissonian counts are read"
   ]
  },
  {
   "cell_type": "code",
   "execution_count": null,
   "metadata": {},
   "outputs": [],
   "source": [
    "import ogip.spec\n",
    "pha = ogip.spec.PHAI.from_file_name(\"tests/data/MOS1source_spectrum_150_rbn.pi\")\n",
    "from astropy.io import fits as pf\n",
    "import numpy as np\n",
    "ff = pf.open(\"tests/data/MOS1source_spectrum_150_rbn.pi\")\n",
    "counts = ff[1].data['COUNTS']\n",
    "assert(np.abs(np.sum(counts - (pha._rate)*pha._exposure)) < 1e-12)\n",
    "assert(np.sum(pha._rate*pha._exposure - (pha._stat_err*pha._exposure)**2))"
   ]
  },
  {
   "cell_type": "code",
   "execution_count": null,
   "metadata": {},
   "outputs": [],
   "source": []
  },
  {
   "cell_type": "code",
   "execution_count": null,
   "metadata": {},
   "outputs": [],
   "source": []
  },
  {
   "cell_type": "code",
   "execution_count": null,
   "metadata": {},
   "outputs": [],
   "source": []
  }
 ],
 "metadata": {
  "interpreter": {
   "hash": "6c0c14c3bc85a7c6c1cb359b38aedade0f64d7248b8647c7b1bd974c3ac87f4c"
  },
  "kernelspec": {
   "display_name": "py10",
   "language": "python",
   "name": "py10"
  },
  "language_info": {
   "codemirror_mode": {
    "name": "ipython",
    "version": 3
   },
   "file_extension": ".py",
   "mimetype": "text/x-python",
   "name": "python",
   "nbconvert_exporter": "python",
   "pygments_lexer": "ipython3",
   "version": "3.10.14"
  }
 },
 "nbformat": 4,
 "nbformat_minor": 4
}
